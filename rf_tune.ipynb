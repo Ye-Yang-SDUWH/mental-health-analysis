{
 "cells": [
  {
   "cell_type": "code",
   "execution_count": 3,
   "metadata": {},
   "outputs": [],
   "source": [
    "from random import seed\n",
    "from random import randrange\n",
    "from csv import reader\n",
    "from math import sqrt"
   ]
  },
  {
   "cell_type": "code",
   "execution_count": 4,
   "metadata": {},
   "outputs": [],
   "source": [
    "#load csv\n",
    "def load_csv(filename):\n",
    "    dataset = list()\n",
    "    with open(filename,'r') as file:\n",
    "        csv_reader = reader(file)\n",
    "        for row in csv_reader:\n",
    "            if not row:\n",
    "                continue\n",
    "            dataset.append(row)\n",
    "    return dataset"
   ]
  },
  {
   "cell_type": "code",
   "execution_count": 5,
   "metadata": {},
   "outputs": [],
   "source": [
    "#k-fold cv split\n",
    "def cross_validation_split(dataset,n_folds):\n",
    "    dataset_split=list()\n",
    "    dataset_copy = list(dataset)\n",
    "    fold_size = int(len(dataset)/n_folds)\n",
    "    for i in range(n_folds):\n",
    "        fold = list()\n",
    "        while len(fold)<fold_size:\n",
    "            index = randrange(len(dataset_copy))\n",
    "            fold.append(dataset_copy.pop(index))\n",
    "        dataset_split.append(fold)\n",
    "    return dataset_split\n"
   ]
  },
  {
   "cell_type": "code",
   "execution_count": 22,
   "metadata": {},
   "outputs": [],
   "source": [
    "def split_data(dataset,ratio):\n",
    "    #train=list()\n",
    "    test = list()\n",
    "    dataset_copy = list(dataset)\n",
    "    test_size = int(len(dataset)*ratio)\n",
    "    while len(test)<test_size:\n",
    "        index = randrange(len(dataset_copy))\n",
    "        test.append(dataset_copy.pop(index))\n",
    "    return dataset_copy,test"
   ]
  },
  {
   "cell_type": "code",
   "execution_count": 7,
   "metadata": {},
   "outputs": [],
   "source": [
    "#calculate accuracy percentage\n",
    "def accuracy_metric(actual,predicted):\n",
    "    correct = 0\n",
    "    for i in range(len(actual)):\n",
    "        if actual[i] == predicted[i]:\n",
    "            correct+=1\n",
    "    return correct/float(len(actual))*100.0"
   ]
  },
  {
   "cell_type": "code",
   "execution_count": 8,
   "metadata": {},
   "outputs": [],
   "source": [
    "def recall_metric(actual,predicted):\n",
    "    correct = 0\n",
    "    positive = 0\n",
    "    #print(actual)\n",
    "    for i in range(len(actual)):\n",
    "        if actual[i] == '1':\n",
    "            positive+=1\n",
    "            if actual[i]==predicted[i]:\n",
    "                correct+=1\n",
    "    if positive==0:\n",
    "        return 0\n",
    "    else:\n",
    "        return correct/positive*100.0"
   ]
  },
  {
   "cell_type": "code",
   "execution_count": 23,
   "metadata": {},
   "outputs": [],
   "source": [
    "#evaluate, using cross validation split\n",
    "def evaluate_algorithm(dataset,algorithm,ratio,*args):\n",
    "    #print(algorithm)\n",
    "    #folds = cross_validation_split(dataset,n_folds)\n",
    "    train,test = split_data(dataset,ratio)\n",
    "    test_copy = list()\n",
    "    for row in test:\n",
    "        row_copy=list(row)\n",
    "        row_copy[-1]=None\n",
    "        test_copy.append(row_copy)\n",
    "    predicted = algorithm(train,test_copy,*args)\n",
    "    actual = [row[-1] for row in test]\n",
    "    accuracy = accuracy_metric(actual,predicted)\n",
    "    recall = recall_metric(actual,predicted)\n",
    "    return accuracy,recall\n",
    "    '''\n",
    "    for fold in folds:\n",
    "        train_set = list(folds)\n",
    "        train_set.remove(fold)\n",
    "        train_set = sum(train_set,[])\n",
    "        test_set = list()\n",
    "        for row in fold:\n",
    "            row_copy = list(row)\n",
    "            test_set.append(row_copy)\n",
    "            row_copy[-1] = None   #here might have some problems, but it truely works\n",
    "        predicted = algorithm(train_set,test_set,*args)\n",
    "        actual = [row[-1] for row in fold]\n",
    "        #print(actual)\n",
    "        accuracy = accuracy_metric(actual,predicted)\n",
    "        recall = recall_metric(actual,predicted)\n",
    "        scores.append(accuracy)\n",
    "        recalls.append(recall)\n",
    "    return max(scores),max(recalls)\n",
    "    '''"
   ]
  },
  {
   "cell_type": "code",
   "execution_count": 10,
   "metadata": {},
   "outputs": [],
   "source": [
    "# Split a dataset based on an attribute and an attribute value\n",
    "def test_split(index, value, dataset):\n",
    "    left, right = list(), list()\n",
    "    for row in dataset:\n",
    "        if row[index] < value:\n",
    "            left.append(row)\n",
    "        else:\n",
    "            right.append(row)\n",
    "    return left, right"
   ]
  },
  {
   "cell_type": "code",
   "execution_count": 11,
   "metadata": {},
   "outputs": [],
   "source": [
    "#calculate gini\n",
    "def gini_index(groups,classes):\n",
    "    #count all samples at split point\n",
    "    n_instances = float(sum([len(group) for group in groups])) #total\n",
    "    #sum weighted gini index for each group\n",
    "    gini = 0.0\n",
    "    for group in groups:\n",
    "        size = float(len(group))\n",
    "        if size == 0 : #avoid divide by zero\n",
    "            continue\n",
    "        score = 0.0\n",
    "        #score the group based on the score for each class\n",
    "        for class_val in classes:\n",
    "            p = [row[-1] for row in group].count(class_val)/size\n",
    "            score+=p*p\n",
    "        #weight the group score by its relative size\n",
    "        gini += (1.0-score)*(size/n_instances)\n",
    "    return gini"
   ]
  },
  {
   "cell_type": "code",
   "execution_count": 12,
   "metadata": {},
   "outputs": [],
   "source": [
    "#select the best split point for a dataset\n",
    "def get_split(dataset,n_features):\n",
    "    class_values = list(set(row[-1] for row in dataset))\n",
    "    b_index,b_value,b_score,b_groups=999,999,999,None\n",
    "    features = list()\n",
    "    while len(features)<n_features:\n",
    "        index = randrange(len(dataset[1])-1)\n",
    "        if index not in features:\n",
    "            features.append(index)\n",
    "    for index in features:\n",
    "        for row in dataset:\n",
    "            groups = test_split(index,row[index],dataset)\n",
    "            gini = gini_index(groups,class_values)\n",
    "            if gini<b_score:\n",
    "                b_index,b_value,b_score,b_groups = index,row[index],gini,groups\n",
    "    #print(b_index,b_value,b_groups)\n",
    "    return {'index':b_index,'value':b_value,'groups':b_groups}"
   ]
  },
  {
   "cell_type": "code",
   "execution_count": 13,
   "metadata": {},
   "outputs": [],
   "source": [
    "#create a terminal node value\n",
    "def to_terminal(group):\n",
    "    outcomes = [row[-1] for row in group]\n",
    "    return max(set(outcomes),key=outcomes.count)"
   ]
  },
  {
   "cell_type": "code",
   "execution_count": 14,
   "metadata": {},
   "outputs": [],
   "source": [
    "#create child splits for a node or make terminal\n",
    "def split(node,max_depth,min_size,n_features,depth):\n",
    "    left,right = node['groups']\n",
    "    del(node['groups'])\n",
    "    #check for a no split\n",
    "    if not left or not right:\n",
    "        node['left'] = node['right'] = to_terminal(left+right)\n",
    "        return\n",
    "    #check for max depth\n",
    "    if depth>=max_depth:\n",
    "        node['left'] = node['right'] = to_terminal(left),to_terminal(right)\n",
    "        return\n",
    "    #process left child\n",
    "    if len(left)<=min_size:\n",
    "        node['left']= to_terminal(left)\n",
    "    else:\n",
    "        node['left'] = get_split(left,n_features)\n",
    "        split(node['left'],max_depth,min_size,n_features,depth+1)#recursion\n",
    "    #process right child\n",
    "    if len(right) <= min_size:\n",
    "        node['right'] = to_terminal(right)\n",
    "    else:\n",
    "        node['right'] = get_split(right, n_features)\n",
    "        split(node['right'], max_depth, min_size, n_features, depth+1)"
   ]
  },
  {
   "cell_type": "code",
   "execution_count": 15,
   "metadata": {},
   "outputs": [],
   "source": [
    "# Build a decision tree\n",
    "def build_tree(train, max_depth, min_size, n_features):\n",
    "    root = get_split(train, n_features)\n",
    "    split(root, max_depth, min_size, n_features, 1)\n",
    "    return root"
   ]
  },
  {
   "cell_type": "code",
   "execution_count": 16,
   "metadata": {},
   "outputs": [],
   "source": [
    "# Make a prediction with a decision tree\n",
    "def predict(node, row):\n",
    "    if row[node['index']] < node['value']:\n",
    "        if isinstance(node['left'], dict):\n",
    "            return predict(node['left'], row)\n",
    "        else:\n",
    "            return node['left']\n",
    "    else:\n",
    "        if isinstance(node['right'], dict):\n",
    "            return predict(node['right'], row)\n",
    "        else:\n",
    "            return node['right']"
   ]
  },
  {
   "cell_type": "code",
   "execution_count": 17,
   "metadata": {},
   "outputs": [],
   "source": [
    "# Create a random subsample from the dataset with replacement\n",
    "#bootstrapping\n",
    "def subsample(dataset, ratio):\n",
    "    sample = list()\n",
    "    n_sample = round(len(dataset) * ratio)\n",
    "    while len(sample) < n_sample:\n",
    "        index = randrange(len(dataset))\n",
    "        sample.append(dataset[index])\n",
    "    return sample"
   ]
  },
  {
   "cell_type": "code",
   "execution_count": 18,
   "metadata": {},
   "outputs": [],
   "source": [
    "# Make a prediction with a list of bagged trees\n",
    "def bagging_predict(trees, row):\n",
    "    predictions = [predict(tree, row) for tree in trees]\n",
    "    return max(set(predictions), key=predictions.count)"
   ]
  },
  {
   "cell_type": "code",
   "execution_count": 19,
   "metadata": {},
   "outputs": [],
   "source": [
    "# Random Forest Algorithm\n",
    "def random_forest(train, test, max_depth, min_size, sample_size, n_trees, n_features):\n",
    "    trees = list()\n",
    "    for _ in range(n_trees):\n",
    "        sample = subsample(train, sample_size)\n",
    "        tree = build_tree(sample, max_depth, min_size, n_features)\n",
    "        trees.append(tree)\n",
    "        #print(tree)\n",
    "    predictions = [bagging_predict(trees, row) for row in test]\n",
    "    return(predictions)"
   ]
  },
  {
   "cell_type": "code",
   "execution_count": 44,
   "metadata": {},
   "outputs": [],
   "source": [
    "seed(2)\n",
    "dataset = load_csv('testfile.csv')\n",
    "n_folds = 10\n",
    "max_depth = 9\n",
    "min_size = 1\n",
    "sample_size = 1.0\n",
    "n_features = 7\n",
    "ratio = 0.2"
   ]
  },
  {
   "cell_type": "code",
   "execution_count": 37,
   "metadata": {},
   "outputs": [
    {
     "name": "stdout",
     "output_type": "stream",
     "text": [
      "Trees: 6\n",
      "Score: 50.806%\n",
      "Recall: 37.500%\n"
     ]
    }
   ],
   "source": [
    "for n_trees in [6]:\n",
    "    score,recall = evaluate_algorithm(dataset,random_forest,ratio, max_depth, min_size,sample_size, n_trees, n_features)\n",
    "    print('Trees: %d' % n_trees)\n",
    "    print('Score: %.3f%%' % score)\n",
    "    print('Recall: %.3f%%' % recall)\n",
    "    #print('Mean Accuracy: %.3f%%' % (sum(scores)/float(len(scores))))"
   ]
  },
  {
   "cell_type": "code",
   "execution_count": 38,
   "metadata": {},
   "outputs": [
    {
     "name": "stdout",
     "output_type": "stream",
     "text": [
      "Trees: 10\n",
      "Score: 65.323%\n",
      "Recall: 55.385%\n"
     ]
    }
   ],
   "source": [
    "for n_trees in [10]:\n",
    "    score,recall = evaluate_algorithm(dataset,random_forest,ratio, max_depth, min_size,sample_size, n_trees, n_features)\n",
    "    print('Trees: %d' % n_trees)\n",
    "    print('Score: %.3f%%' % score)\n",
    "    print('Recall: %.3f%%' % recall)\n",
    "    #print('Mean Accuracy: %.3f%%' % (sum(scores)/float(len(scores))))"
   ]
  },
  {
   "cell_type": "code",
   "execution_count": 46,
   "metadata": {},
   "outputs": [
    {
     "name": "stdout",
     "output_type": "stream",
     "text": [
      "Trees: 19\n",
      "Score: 62.903%\n",
      "Recall: 55.652%\n"
     ]
    }
   ],
   "source": [
    "for n_trees in [19]:\n",
    "    score,recall = evaluate_algorithm(dataset,random_forest,ratio, max_depth, min_size,sample_size, n_trees, n_features)\n",
    "    print('Trees: %d' % n_trees)\n",
    "    print('Score: %.3f%%' % score)\n",
    "    print('Recall: %.3f%%' % recall)\n",
    "    #print('Mean Accuracy: %.3f%%' % (sum(scores)/float(len(scores))))"
   ]
  },
  {
   "cell_type": "code",
   "execution_count": null,
   "metadata": {},
   "outputs": [],
   "source": []
  }
 ],
 "metadata": {
  "kernelspec": {
   "display_name": "Python 3",
   "language": "python",
   "name": "python3"
  },
  "language_info": {
   "codemirror_mode": {
    "name": "ipython",
    "version": 3
   },
   "file_extension": ".py",
   "mimetype": "text/x-python",
   "name": "python",
   "nbconvert_exporter": "python",
   "pygments_lexer": "ipython3",
   "version": "3.7.3"
  }
 },
 "nbformat": 4,
 "nbformat_minor": 2
}
